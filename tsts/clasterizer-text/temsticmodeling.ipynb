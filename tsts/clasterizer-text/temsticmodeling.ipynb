{
  "cells": [
    {
      "cell_type": "code",
      "execution_count": 5,
      "outputs": [],
      "source": "import pandas as pd\nfrom collections import Counter\nimport time\nimport sys\nimport re\nimport pymorphy2\nfrom sklearn.feature_extraction.text import TfidfVectorizer\nfrom sklearn.decomposition import TruncatedSVD\nfrom sklearn.cluster import KMeans, AffinityPropagation, MiniBatchKMeans, AgglomerativeClustering\nfrom sklearn.pipeline import Pipeline\nfrom sklearn.base import TransformerMixin\nfrom functools import wraps\nfrom yellowbrick.cluster import SilhouetteVisualizer, KElbowVisualizer",
      "metadata": {
        "pycharm": {
          "metadata": false,
          "name": "#%%\n",
          "is_executing": false
        }
      }
    },
    {
      "cell_type": "code",
      "execution_count": 8,
      "outputs": [],
      "source": "morph \u003d pymorphy2.MorphAnalyzer()\ncount \u003d Counter()\nnrows_to_load \u003d None\nrandom_sample \u003d None\nnum_clasters_for_kMeans \u003d 10\nengine_for_pd \u003d \u0027c\u0027\n# engine_for_pd \u003d \u0027python\u0027\ndata_file_name \u003d r\u0027D:\\data\\oscar\u0027",
      "metadata": {
        "pycharm": {
          "metadata": false,
          "name": "#%%\n",
          "is_executing": false
        }
      }
    },
    {
      "cell_type": "code",
      "execution_count": 7,
      "outputs": [],
      "source": "def load_from_csv(file):\n    df \u003d pd.read_csv(file, \u0027\\t\u0027, parse_dates\u003d[\u0027datetime\u0027], index_col\u003d\u0027datetime\u0027,\n                     converters\u003d{\u0027normal_query\u0027: str},\n                     nrows\u003dnrows_to_load,\n                     engine\u003dengine_for_pd,\n                     )\n    # df.info()\n    print(\"считано: {}\".format(df.shape))\n    return df",
      "metadata": {
        "pycharm": {
          "metadata": false,
          "name": "#%%\n",
          "is_executing": false
        }
      }
    },
    {
      "cell_type": "code",
      "execution_count": 9,
      "outputs": [
        {
          "name": "stdout",
          "text": [
            "считано: (38895630, 1)\n"
          ],
          "output_type": "stream"
        }
      ],
      "source": "data \u003d load_from_csv(data_file_name)",
      "metadata": {
        "pycharm": {
          "metadata": false,
          "name": "#%%\n",
          "is_executing": false
        }
      }
    },
    {
      "cell_type": "code",
      "execution_count": 11,
      "outputs": [
        {
          "name": "stdout",
          "text": [
            "\u003cclass \u0027pandas.core.frame.DataFrame\u0027\u003e\nDatetimeIndex: 38895630 entries, 2019-01-23 09:39:25 to 2019-02-17 19:05:12\nData columns (total 1 columns):\nnormal_query    object\ndtypes: object(1)\nmemory usage: 593.5+ MB\n"
          ],
          "output_type": "stream"
        }
      ],
      "source": "data.info()",
      "metadata": {
        "pycharm": {
          "metadata": false,
          "name": "#%%\n",
          "is_executing": false
        }
      }
    },
    {
      "cell_type": "code",
      "execution_count": 14,
      "outputs": [
        {
          "data": {
            "text/plain": "                                               normal_query\ndatetime                                                   \n2019-02-17 19:05:12                         своенравный это\n2019-02-17 19:05:12                     пансионат канака bu\n2019-02-17 19:05:12  поставь глаголы в неопределённую форму\n2019-02-17 19:05:12            волшебники из вэйверли плэйс\n2019-02-17 19:05:12                    исчезнувшая смотреть",
            "text/html": "\u003cdiv\u003e\n\u003cstyle scoped\u003e\n    .dataframe tbody tr th:only-of-type {\n        vertical-align: middle;\n    }\n\n    .dataframe tbody tr th {\n        vertical-align: top;\n    }\n\n    .dataframe thead th {\n        text-align: right;\n    }\n\u003c/style\u003e\n\u003ctable border\u003d\"1\" class\u003d\"dataframe\"\u003e\n  \u003cthead\u003e\n    \u003ctr style\u003d\"text-align: right;\"\u003e\n      \u003cth\u003e\u003c/th\u003e\n      \u003cth\u003enormal_query\u003c/th\u003e\n    \u003c/tr\u003e\n    \u003ctr\u003e\n      \u003cth\u003edatetime\u003c/th\u003e\n      \u003cth\u003e\u003c/th\u003e\n    \u003c/tr\u003e\n  \u003c/thead\u003e\n  \u003ctbody\u003e\n    \u003ctr\u003e\n      \u003cth\u003e2019-02-17 19:05:12\u003c/th\u003e\n      \u003ctd\u003eсвоенравный это\u003c/td\u003e\n    \u003c/tr\u003e\n    \u003ctr\u003e\n      \u003cth\u003e2019-02-17 19:05:12\u003c/th\u003e\n      \u003ctd\u003eпансионат канака bu\u003c/td\u003e\n    \u003c/tr\u003e\n    \u003ctr\u003e\n      \u003cth\u003e2019-02-17 19:05:12\u003c/th\u003e\n      \u003ctd\u003eпоставь глаголы в неопределённую форму\u003c/td\u003e\n    \u003c/tr\u003e\n    \u003ctr\u003e\n      \u003cth\u003e2019-02-17 19:05:12\u003c/th\u003e\n      \u003ctd\u003eволшебники из вэйверли плэйс\u003c/td\u003e\n    \u003c/tr\u003e\n    \u003ctr\u003e\n      \u003cth\u003e2019-02-17 19:05:12\u003c/th\u003e\n      \u003ctd\u003eисчезнувшая смотреть\u003c/td\u003e\n    \u003c/tr\u003e\n  \u003c/tbody\u003e\n\u003c/table\u003e\n\u003c/div\u003e"
          },
          "metadata": {},
          "output_type": "execute_result",
          "execution_count": 14
        }
      ],
      "source": "data.tail()",
      "metadata": {
        "pycharm": {
          "metadata": false,
          "name": "#%%\n",
          "is_executing": false
        }
      }
    },
    {
      "cell_type": "code",
      "execution_count": null,
      "outputs": [],
      "source": "d \u003d data[data[\u0027normal_query\u0027].str.contains(\u0027oscar|оскар\u0027)]\n",
      "metadata": {
        "pycharm": {
          "metadata": false,
          "name": "#%%\n"
        }
      }
    },
    {
      "cell_type": "code",
      "execution_count": 39,
      "outputs": [],
      "source": "d \u003d d.sort_index()",
      "metadata": {
        "pycharm": {
          "metadata": false,
          "name": "#%%\n",
          "is_executing": false
        }
      }
    },
    {
      "cell_type": "code",
      "execution_count": 42,
      "outputs": [],
      "source": "d.to_csv(r\u0027D:\\data\\oscar_oscar\u0027, sep\u003d\u0027\\t\u0027)\n",
      "metadata": {
        "pycharm": {
          "metadata": false,
          "name": "#%%\n",
          "is_executing": false
        }
      }
    }
  ],
  "metadata": {
    "kernelspec": {
      "display_name": "Python 3",
      "language": "python",
      "name": "python3"
    },
    "language_info": {
      "codemirror_mode": {
        "name": "ipython",
        "version": 3
      },
      "file_extension": ".py",
      "mimetype": "text/x-python",
      "name": "python",
      "nbconvert_exporter": "python",
      "pygments_lexer": "ipython3",
      "version": "3.7.1"
    },
    "stem_cell": {
      "cell_type": "raw",
      "source": "",
      "metadata": {
        "pycharm": {
          "metadata": false
        }
      }
    }
  },
  "nbformat": 4,
  "nbformat_minor": 1
}